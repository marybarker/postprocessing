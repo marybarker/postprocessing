{
 "cells": [
  {
   "cell_type": "code",
   "execution_count": null,
   "metadata": {},
   "outputs": [],
   "source": [
    "from dolfin import *\n",
    "import numpy as np\n",
    "import matplotlib.pyplot as plt\n",
    "#%config InlineBackend.figure_format = 'retina'"
   ]
  },
  {
   "cell_type": "code",
   "execution_count": null,
   "metadata": {},
   "outputs": [],
   "source": [
    "def errors(n, r=1):\n",
    "    \n",
    "    mesh = UnitSquareMesh(n, n)\n",
    "    \n",
    "    # start by solving for u using non-hybrid method\n",
    "    S_element = FiniteElement('CG', mesh.ufl_cell(), r+1)\n",
    "    V_element = FiniteElement('N2curl', mesh.ufl_cell(), r)\n",
    "    W = FunctionSpace(mesh, S_element*V_element)\n",
    "    \n",
    "    bcs = [DirichletBC(W.sub(0), Constant(0), DomainBoundary()),\n",
    "           DirichletBC(W.sub(1), Constant((0,0)), DomainBoundary())]\n",
    "\n",
    "    s, u = TrialFunctions(W)\n",
    "    t, v = TestFunctions(W) \n",
    "    a = (-inner(s, t) + inner(u, grad(t)) + inner(grad(s), v) + inner(curl(u), curl(v)))*dx\n",
    "    f = Expression(('-2*pow(pi,2)*cos(pi*x[0])*sin(pi*x[1])', '2*pow(pi,2)*sin(pi*x[0])*cos(pi*x[1])'), degree=r+1)\n",
    "    L = inner(f, v)*dx\n",
    "    \n",
    "    w = Function(W)\n",
    "    solve(a == L, w, bcs)\n",
    "    u = w.sub(1)\n",
    "    \n",
    "    curl_u = project(curl(u), FunctionSpace(mesh, \"DG\", r-1))\n",
    "    \n",
    "    # post-process\n",
    "    V_dg_element = VectorElement('DG', mesh.ufl_cell(), r)\n",
    "    Q_element = FiniteElement('CG', mesh.ufl_cell(), r+2)\n",
    "    W = FunctionSpace(mesh, V_dg_element*Q_element)\n",
    "    \n",
    "    lam, q = TrialFunctions(W)\n",
    "    v, p = TestFunctions(W)\n",
    "    a = (inner(q, p) + inner(curl(q), curl(p)) - curl(lam*p + v*q) + 1e-10*inner(lam, v))*dx\n",
    "    L = (inner(f, v + curl(p)) + inner(curl_u, p - curl(v)))*dx\n",
    "    \n",
    "    w = Function(W)\n",
    "    solve(a == L, w)\n",
    "    q = w.sub(1)\n",
    "\n",
    "    # exact solutions\n",
    "    u_exact = Expression(('-cos(pi*x[0])*sin(pi*x[1])', 'sin(pi*x[0])*cos(pi*x[1])'), degree=r+3)\n",
    "    curl_u_exact = Expression('2*pi*cos(pi*x[0])*cos(pi*x[1])', degree=r+5)\n",
    "    \n",
    "    u_error = errornorm(u_exact, u)\n",
    "    curl_u_error = errornorm(curl_u_exact, curl_u)\n",
    "    q_error = errornorm(curl_u_exact, q)\n",
    "\n",
    "    return u_error, curl_u_error, q_error"
   ]
  },
  {
   "cell_type": "code",
   "execution_count": null,
   "metadata": {},
   "outputs": [],
   "source": [
    "ns = [2**k for k in range(1,5)]\n",
    "es = [errors(n, r=3) for n in ns]"
   ]
  },
  {
   "cell_type": "code",
   "execution_count": null,
   "metadata": {
    "scrolled": true
   },
   "outputs": [],
   "source": [
    "plt.loglog(1/np.array(ns), es, basex=2, basey=2)\n",
    "plt.legend(['$u$',r'$\\operatorname{curl} u$','$q$'])\n",
    "plt.xlabel('$h$')\n",
    "plt.ylabel('error')"
   ]
  },
  {
   "cell_type": "code",
   "execution_count": null,
   "metadata": {},
   "outputs": [],
   "source": [
    "es"
   ]
  },
  {
   "cell_type": "code",
   "execution_count": null,
   "metadata": {},
   "outputs": [],
   "source": [
    "rates = -np.diff(np.log2(es), axis=0)\n",
    "rates"
   ]
  },
  {
   "cell_type": "code",
   "execution_count": null,
   "metadata": {},
   "outputs": [],
   "source": []
  }
 ],
 "metadata": {
  "kernelspec": {
   "display_name": "Python 3",
   "language": "python",
   "name": "python3"
  },
  "language_info": {
   "codemirror_mode": {
    "name": "ipython",
    "version": 3
   },
   "file_extension": ".py",
   "mimetype": "text/x-python",
   "name": "python",
   "nbconvert_exporter": "python",
   "pygments_lexer": "ipython3",
   "version": "3.7.3"
  }
 },
 "nbformat": 4,
 "nbformat_minor": 2
}
