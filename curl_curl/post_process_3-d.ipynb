{
 "cells": [
  {
   "cell_type": "markdown",
   "metadata": {},
   "source": [
    "# 3D Curl Curl problem -- STILL BROKEN\n",
    "The purpose of this notebook is to solve the Curl Curl equation in 3D using a primal formulation, and then improving the order of convergence by post-processing: \n",
    "\n",
    "We solve $\\operatorname{curl}\\operatorname{curl}u = f$ weakly: \n",
    "$$\\int(\\operatorname{curl}\\operatorname{curl}u)\\cdot v=\\int f\\cdot v~~\\forall v\\in V_h$$\n",
    "Taking the weak form of the above equation (in this case, using the vector \n",
    "identity $(\\nabla\\times A)\\cdot B = \\nabla\\cdot(A\\times B) + (\\nabla\\times B)\\cdot A$ where $A=\\nabla\\times u$ and \n",
    "$B=v$) we get\n",
    "$$\n",
    "\\int_\\Omega(\\operatorname{curl}u)\\cdot(\\operatorname{curl}v) + \\operatorname{div}((\\operatorname{curl}u)\\times v) = \\int_\\Omega f\\cdot v\n",
    "$$\n",
    "In order to insure uniqueness (recall that the nullspace of the curl operator contains the image of the gradient operator), we instead solve the modified equation for \n",
    "$(u, \\sigma)\\in H(\\operatorname{curl})\\times H^1$ where: \n",
    "\n",
    "$$\\begin{array}{rcl}\n",
    "    \\int_\\Omega\\operatorname{curl}u\\cdot\\operatorname{curl}v +\n",
    "        \\int_{\\partial\\Omega} (\\operatorname{curl}u)\\times v \\cdot n + \n",
    "        \\int_\\Omega v\\cdot\\operatorname{grad}\\sigma &=& \\int_\\Omega f\\cdot v\\\\\n",
    "    \\int_\\Omega u\\cdot\\operatorname{grad}\\tau &=& 0 \n",
    "\\end{array}~~\\forall (v,\\tau)\\in H(\\operatorname{curl})\\times H^1$$\n",
    "\n",
    "Note that the values for the example problem used below were generated using the auxiliary script generate_3d_curl_vals.py"
   ]
  },
  {
   "cell_type": "code",
   "execution_count": 2,
   "metadata": {},
   "outputs": [],
   "source": [
    "from dolfin import *\n",
    "import numpy as np\n",
    "import matplotlib.pyplot as plt\n",
    "#%config InlineBackend.figure_format = 'retina'"
   ]
  },
  {
   "cell_type": "code",
   "execution_count": 15,
   "metadata": {},
   "outputs": [],
   "source": [
    "def errors_3d(n, r=1):\n",
    "    \n",
    "    mesh = UnitCubeMesh(n, n, n)\n",
    "    # start by solving for u using non-hybrid method\n",
    "\n",
    "    S_element = FiniteElement('CG', mesh.ufl_cell(), r+1)\n",
    "    V_element = FiniteElement('N2curl', mesh.ufl_cell(), r)\n",
    "    W = FunctionSpace(mesh, S_element*V_element)\n",
    "\n",
    "    g = Expression((\"sin(pi*x[1])*sin(pi*x[2])\",\n",
    "                    \"sin(pi*x[2])*sin(pi*x[0])\",\n",
    "                    \"sin(pi*x[0])*sin(pi*x[1])\"), degree=r+1)\n",
    "\n",
    "    bcs = [DirichletBC(W.sub(0), Constant(0), DomainBoundary()),\n",
    "           DirichletBC(W.sub(1), g, DomainBoundary())]\n",
    "\n",
    "    N = FacetNormal(mesh)\n",
    "    s, u = TrialFunctions(W)\n",
    "    t, v = TestFunctions(W) \n",
    "\n",
    "    a = (inner(curl(u), curl(v)) + inner(grad(s), v) + inner(grad(t), u))*dx \n",
    "    f = Expression((\"2*pow(pi, 2)*(sin(pi*x[1])*sin(pi*x[2]))\",\n",
    "                    \"2*pow(pi, 2)*(sin(pi*x[2])*sin(pi*x[0]))\",\n",
    "                    \"2*pow(pi, 2)*(sin(pi*x[0])*sin(pi*x[1]))\"), degree=r+1)\n",
    "    L = inner(f, v)*dx\n",
    "    \n",
    "    w = Function(W)\n",
    "    solve(a == L, w, bcs=bcs)\n",
    "    u = w.sub(1)\n",
    "    \n",
    "    curl_u = project(curl(u), VectorFunctionSpace(mesh, \"DG\", r-1))\n",
    "    \n",
    "    # post-process\n",
    "    V_dg_element = VectorElement('DG', mesh.ufl_cell(), r)\n",
    "    Q_element = VectorElement('CG', mesh.ufl_cell(), r+2)\n",
    "    W = FunctionSpace(mesh, V_dg_element*Q_element)\n",
    "\n",
    "    #bcs = [DirichletBC(W.sub(0), g, DomainBoundary())]\n",
    "\n",
    "    lam, q = TrialFunctions(W)\n",
    "    v, p = TestFunctions(W)\n",
    "    '''\n",
    "    a = (inner(q, p) + inner(curl(q), curl(p)) + curl(lam*p + v*q) + 1e-10*inner(lam, v))*dx\n",
    "    '''\n",
    "\n",
    "    a = (inner(q, p) + inner(curl(q), curl(p)))*dx + \\\n",
    "        (div(cross(p, lam) + cross(q, v)) + 1e-10*inner(lam, v))*dx\n",
    "    #L = (inner(f, v + curl(p)) + inner(curl_u, p + curl(v)))*dx\n",
    "    L = (inner(f - curl_u, p) + inner(f, v) - inner(curl_u, curl(v)))*dx\n",
    "    w = Function(W)\n",
    "    solve(a == L, w, solver_parameters={'preconditioner': 'sor'})\n",
    "    q = w.sub(1)\n",
    "\n",
    "    # exact solutions\n",
    "    u_exact = Expression((\"(sin(pi*x[1])*sin(pi*x[2]))\",\n",
    "                          \"(sin(pi*x[2])*sin(pi*x[0]))\",\n",
    "                          \"(sin(pi*x[0])*sin(pi*x[1]))\"), degree=r+3)\n",
    "\n",
    "    curl_u_exact = Expression((\"pi*(sin(pi*x[0])*cos(pi*x[1])-sin(pi*x[0])*cos(pi*x[2]))\",\n",
    "                               \"pi*(sin(pi*x[1])*cos(pi*x[2])-sin(pi*x[1])*cos(pi*x[0]))\",\n",
    "                               \"pi*(sin(pi*x[2])*cos(pi*x[0])-sin(pi*x[2])*cos(pi*x[1]))\"), degree=r+5)\n",
    "    # double-check our div(curl(solution)) = 0\n",
    "    print(norm(project(div(u), FunctionSpace(mesh, \"DG\", r)).vector(), 'linf'))\n",
    "    # double-check our div(curl(solution)) = 0\n",
    "    print(norm(project(div(curl_u), FunctionSpace(mesh, \"DG\", r)).vector(), 'linf'))\n",
    "    \n",
    "    u_error = errornorm(u_exact, u)\n",
    "    curl_u_error = errornorm(curl_u_exact, curl_u)\n",
    "    q_error = errornorm(curl_u_exact, q)\n",
    "\n",
    "    \"\"\"\n",
    "    File(\"3d_u_exact_n=%d.pvd\"%n) << project(u_exact, FunctionSpace(mesh, \"N2curl\", r))\n",
    "    File(\"3d_u_n=%d.pvd\"%n) << u\n",
    "    File(\"3d_curl_u_n=%d.pvd\"%n) << curl_u\n",
    "    File(\"3d_curl_u_exact_n=%d.pvd\"%n) << project(curl_u_exact, VectorFunctionSpace(mesh, \"CG\", r+2))\n",
    "    \"\"\"\n",
    "\n",
    "    return u_error, curl_u_error, q_error"
   ]
  },
  {
   "cell_type": "code",
   "execution_count": 21,
   "metadata": {},
   "outputs": [
    {
     "name": "stdout",
     "output_type": "stream",
     "text": [
      "0.7849673879055113\n",
      "1.816879979799118e-13\n",
      "0.4120428791558049\n",
      "5.088707233369541e-13\n"
     ]
    }
   ],
   "source": [
    "ns = [2,3]#,4,5]#[2**k for k in range(1,3)]\n",
    "es_3d = [errors_3d(n, r=2) for n in ns]"
   ]
  },
  {
   "cell_type": "markdown",
   "metadata": {},
   "source": [
    "## Examine error & convergence rates"
   ]
  },
  {
   "cell_type": "code",
   "execution_count": 22,
   "metadata": {},
   "outputs": [
    {
     "data": {
      "text/plain": [
       "Text(0, 0.5, 'error')"
      ]
     },
     "execution_count": 22,
     "metadata": {},
     "output_type": "execute_result"
    },
    {
     "data": {
      "image/png": "[encoded data removed]",
      "text/plain": [
       "<Figure size 432x288 with 1 Axes>"
      ]
     },
     "metadata": {
      "needs_background": "light"
     },
     "output_type": "display_data"
    }
   ],
   "source": [
    "plt.loglog(1/np.array(ns), es_3d, basex=2, basey=2)\n",
    "plt.legend(['$u$',r'$\\operatorname{curl} u$','$q$'])\n",
    "plt.xlabel('$h$')\n",
    "plt.ylabel('error')"
   ]
  },
  {
   "cell_type": "code",
   "execution_count": 23,
   "metadata": {},
   "outputs": [
    {
     "data": {
      "text/plain": [
       "array([[1.63766446, 1.05479049, 0.83507389]])"
      ]
     },
     "execution_count": 23,
     "metadata": {},
     "output_type": "execute_result"
    }
   ],
   "source": [
    "rates = -np.diff(np.log2(es_3d), axis=0)\n",
    "rates"
   ]
  },
  {
   "cell_type": "code",
   "execution_count": 24,
   "metadata": {},
   "outputs": [
    {
     "data": {
      "text/plain": [
       "[(0.03906315273106085, 0.5261432388284185, 0.8919691728152579),\n",
       " (0.012553972295807089, 0.2532680563081288, 0.4999971802408344)]"
      ]
     },
     "execution_count": 24,
     "metadata": {},
     "output_type": "execute_result"
    }
   ],
   "source": [
    "es_3d"
   ]
  },
  {
   "cell_type": "code",
   "execution_count": null,
   "metadata": {},
   "outputs": [],
   "source": []
  }
 ],
 "metadata": {
  "kernelspec": {
   "display_name": "Python 3",
   "language": "python",
   "name": "python3"
  },
  "language_info": {
   "codemirror_mode": {
    "name": "ipython",
    "version": 3
   },
   "file_extension": ".py",
   "mimetype": "text/x-python",
   "name": "python",
   "nbconvert_exporter": "python",
   "pygments_lexer": "ipython3",
   "version": "3.7.3"
  }
 },
 "nbformat": 4,
 "nbformat_minor": 2
}
