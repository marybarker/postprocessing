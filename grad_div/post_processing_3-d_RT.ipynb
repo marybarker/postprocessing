{
 "cells": [
  {
   "cell_type": "code",
   "execution_count": 1,
   "metadata": {},
   "outputs": [],
   "source": [
    "from dolfin import *\n",
    "import numpy as np\n",
    "import matplotlib.pyplot as plt\n",
    "%config InlineBackend.figure_format = 'retina'"
   ]
  },
  {
   "cell_type": "code",
   "execution_count": 27,
   "metadata": {},
   "outputs": [],
   "source": [
    "def errors(n, r=1):\n",
    "\n",
    "    mesh = UnitCubeMesh(n, n, n)\n",
    "    \n",
    "    # start by solving for u using non-hybrid method\n",
    "    S_element = FiniteElement('N1curl', mesh.ufl_cell(), r)\n",
    "    V_element = FiniteElement('RT', mesh.ufl_cell(), r)\n",
    "    W = FunctionSpace(mesh, S_element*V_element)\n",
    "    bcs = [DirichletBC(W.sub(0), Constant((0,0,0)), DomainBoundary()),\n",
    "           DirichletBC(W.sub(1), Constant((0,0,0)), DomainBoundary())]\n",
    "\n",
    "    s, u = TrialFunctions(W)\n",
    "    t, v = TestFunctions(W)\n",
    "    a = (-inner(s, t) + inner(u, curl(t)) + inner(curl(s), v) + inner(div(u), div(v)))*dx\n",
    "    f = Expression((\"pow(pi,2)*sin(pi*x[0])\",\"pow(pi,2)*sin(pi*x[1])\",\"pow(pi,2)*sin(pi*x[2])\"), degree=r+1)\n",
    "    L = inner(f, v)*dx\n",
    "    \n",
    "    w = Function(W)\n",
    "    solve(a == L, w, bcs)\n",
    "    u = w.sub(1)\n",
    "    \n",
    "    div_u = project(div(u), FunctionSpace(mesh, \"DG\", r-1))\n",
    "    \n",
    "    # post-process to estimate q = div(u) in H^1 instead of L^2\n",
    "    V_dg_element = FiniteElement('DRT', mesh.ufl_cell(), r)\n",
    "    Q_element = FiniteElement('CG', mesh.ufl_cell(), r+1)\n",
    "    W = FunctionSpace(mesh, V_dg_element*Q_element)\n",
    "    \n",
    "    lam, q = TrialFunctions(W)\n",
    "    v, p = TestFunctions(W)\n",
    "    a = (inner(q, p) + inner(grad(q), grad(p)) - div(lam*p + v*q) + 1e-10*inner(lam, v))*dx\n",
    "    L = (inner(f, v - grad(p)) + inner(div_u, p - div(v)))*dx\n",
    "    \n",
    "    w = Function(W)\n",
    "    solve(a == L, w)\n",
    "    q = w.sub(1)\n",
    "    \n",
    "    # exact solutions\n",
    "    u_exact = Expression((\"sin(pi*x[0])\",\"sin(pi*x[1])\",\"sin(pi*x[2])\"), degree=r+3)\n",
    "    q_exact = Expression(\"pi*(cos(pi*x[0]) + cos(pi*x[1]) + cos(pi*x[2]))\", degree=r+4)\n",
    "\n",
    "    u_error = errornorm(u_exact, u)\n",
    "    div_u_error = errornorm(q_exact, div_u)\n",
    "    q_error = errornorm(q_exact, q)\n",
    "\n",
    "    return u_error, div_u_error, q_error"
   ]
  },
  {
   "cell_type": "code",
   "execution_count": 31,
   "metadata": {},
   "outputs": [
    {
     "name": "stdout",
     "output_type": "stream",
     "text": [
      "  Calling FFC just-in-time (JIT) compiler, this may take some time.\n",
      "  Calling FFC just-in-time (JIT) compiler, this may take some time.\n",
      "  Calling FFC just-in-time (JIT) compiler, this may take some time.\n",
      "  Calling FFC just-in-time (JIT) compiler, this may take some time.\n",
      "  Calling FFC just-in-time (JIT) compiler, this may take some time.\n"
     ]
    },
    {
     "name": "stderr",
     "output_type": "stream",
     "text": [
      "/usr/local/Caskroom/miniconda/4.6.14/miniconda3/envs/fenics/lib/python3.7/site-packages/ffc/uflacs/analysis/dependencies.py:61: FutureWarning: Using a non-tuple sequence for multidimensional indexing is deprecated; use `arr[tuple(seq)]` instead of `arr[seq]`. In the future this will be interpreted as an array index, `arr[np.array(seq)]`, which will result either in an error or a different result.\n",
      "  active[targets] = 1\n"
     ]
    },
    {
     "name": "stdout",
     "output_type": "stream",
     "text": [
      "  Calling FFC just-in-time (JIT) compiler, this may take some time.\n",
      "  Calling FFC just-in-time (JIT) compiler, this may take some time.\n"
     ]
    },
    {
     "name": "stderr",
     "output_type": "stream",
     "text": [
      "/usr/local/Caskroom/miniconda/4.6.14/miniconda3/envs/fenics/lib/python3.7/site-packages/ffc/uflacs/analysis/dependencies.py:61: FutureWarning: Using a non-tuple sequence for multidimensional indexing is deprecated; use `arr[tuple(seq)]` instead of `arr[seq]`. In the future this will be interpreted as an array index, `arr[np.array(seq)]`, which will result either in an error or a different result.\n",
      "  active[targets] = 1\n"
     ]
    },
    {
     "name": "stdout",
     "output_type": "stream",
     "text": [
      "  Calling FFC just-in-time (JIT) compiler, this may take some time.\n",
      "  Calling FFC just-in-time (JIT) compiler, this may take some time.\n",
      "    WARNING: The number of integration points for each cell will be: 343\n",
      "             Consider using the option 'quadrature_degree' to reduce the number of points\n",
      "  Calling FFC just-in-time (JIT) compiler, this may take some time.\n"
     ]
    },
    {
     "name": "stderr",
     "output_type": "stream",
     "text": [
      "/usr/local/Caskroom/miniconda/4.6.14/miniconda3/envs/fenics/lib/python3.7/site-packages/ffc/uflacs/analysis/dependencies.py:61: FutureWarning: Using a non-tuple sequence for multidimensional indexing is deprecated; use `arr[tuple(seq)]` instead of `arr[seq]`. In the future this will be interpreted as an array index, `arr[np.array(seq)]`, which will result either in an error or a different result.\n",
      "  active[targets] = 1\n"
     ]
    }
   ],
   "source": [
    "ns = [2**k for k in range(0,2)]\n",
    "es = [errors(n, r=2) for n in ns]"
   ]
  },
  {
   "cell_type": "code",
   "execution_count": 32,
   "metadata": {},
   "outputs": [
    {
     "data": {
      "text/plain": [
       "Text(0, 0.5, 'error')"
      ]
     },
     "execution_count": 32,
     "metadata": {},
     "output_type": "execute_result"
    },
    {
     "data": {
      "image/png": "[encoded data removed]",
      "text/plain": [
       "<Figure size 432x288 with 1 Axes>"
      ]
     },
     "metadata": {
      "image/png": {
       "height": 263,
       "width": 387
      },
      "needs_background": "light"
     },
     "output_type": "display_data"
    }
   ],
   "source": [
    "plt.loglog(1/np.array(ns), es, basex=2, basey=2)\n",
    "plt.legend(['$u$',r'$\\operatorname{div} u$', r'$q$'])\n",
    "plt.xlabel('$h$')\n",
    "plt.ylabel('error')"
   ]
  },
  {
   "cell_type": "code",
   "execution_count": 33,
   "metadata": {},
   "outputs": [
    {
     "data": {
      "text/plain": [
       "array([[2.18820832, 1.0204998 , 2.80336741]])"
      ]
     },
     "execution_count": 33,
     "metadata": {},
     "output_type": "execute_result"
    }
   ],
   "source": [
    "rates = -np.diff(np.log2(es), axis=0)\n",
    "rates"
   ]
  },
  {
   "cell_type": "code",
   "execution_count": null,
   "metadata": {},
   "outputs": [],
   "source": []
  }
 ],
 "metadata": {
  "kernelspec": {
   "display_name": "Python 3",
   "language": "python",
   "name": "python3"
  },
  "language_info": {
   "codemirror_mode": {
    "name": "ipython",
    "version": 3
   },
   "file_extension": ".py",
   "mimetype": "text/x-python",
   "name": "python",
   "nbconvert_exporter": "python",
   "pygments_lexer": "ipython3",
   "version": "3.7.3"
  }
 },
 "nbformat": 4,
 "nbformat_minor": 2
}
