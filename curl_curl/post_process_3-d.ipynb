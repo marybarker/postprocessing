{
 "cells": [
  {
   "cell_type": "markdown",
   "metadata": {},
   "source": [
    "# 3D Curl Curl problem -- STILL BROKEN\n",
    "The purpose of this notebook is to solve the Curl Curl equation in 3D using a primal formulation, and then improving the order of convergence by post-processing: \n",
    "\n",
    "We solve $\\operatorname{curl}\\operatorname{curl}u = f$ weakly: \n",
    "$$\\int(\\operatorname{curl}\\operatorname{curl}u)\\cdot v=\\int f\\cdot v~~\\forall v\\in V_h$$\n",
    "Taking the weak form of the above equation (in this case, using the vector \n",
    "identity $(\\nabla\\times A)\\cdot B = \\nabla\\cdot(A\\times B) + (\\nabla\\times B)\\cdot A$ where $A=\\nabla\\times u$ and \n",
    "$B=v$) we get\n",
    "$$\n",
    "\\int_\\Omega(\\operatorname{curl}u)\\cdot(\\operatorname{curl}v) + \\operatorname{div}((\\operatorname{curl}u)\\times v) = \\int_\\Omega f\\cdot v\n",
    "$$\n",
    "In order to insure uniqueness (recall that the nullspace of the curl operator contains the image of the gradient operator), we instead solve the modified equation for \n",
    "$(u, \\sigma)\\in H(\\operatorname{curl})\\times H^1$ where: \n",
    "\n",
    "$$\\begin{array}{rcl}\n",
    "    \\int_\\Omega\\operatorname{curl}u\\cdot\\operatorname{curl}v +\n",
    "        \\int_{\\partial\\Omega} (\\operatorname{curl}u)\\times v \\cdot n + \n",
    "        \\int_\\Omega v\\cdot\\operatorname{grad}\\sigma &=& \\int_\\Omega f\\cdot v\\\\\n",
    "    \\int_\\Omega u\\cdot\\operatorname{grad}\\tau &=& 0 \n",
    "\\end{array}~~\\forall (v,\\tau)\\in H(\\operatorname{curl})\\times H^1$$\n",
    "\n",
    "Note that the values for the example problem used below were generated using the auxiliary script generate_3d_curl_vals.py"
   ]
  },
  {
   "cell_type": "code",
   "execution_count": 1,
   "metadata": {},
   "outputs": [],
   "source": [
    "from dolfin import *\n",
    "import numpy as np\n",
    "import matplotlib.pyplot as plt\n",
    "#%config InlineBackend.figure_format = 'retina'"
   ]
  },
  {
   "cell_type": "code",
   "execution_count": 6,
   "metadata": {},
   "outputs": [],
   "source": [
    "def errors_3d(n, r=1):\n",
    "    \n",
    "    mesh = UnitCubeMesh(n, n, n)\n",
    "    # start by solving for u using non-hybrid method\n",
    "\n",
    "    S_element = FiniteElement('CG', mesh.ufl_cell(), r+1)\n",
    "    V_element = FiniteElement('N2curl', mesh.ufl_cell(), r)\n",
    "    W = FunctionSpace(mesh, S_element*V_element)\n",
    "\n",
    "    g = Expression((\"sin(pi*x[1])*sin(pi*x[2])\",\n",
    "                    \"sin(pi*x[2])*sin(pi*x[0])\",\n",
    "                    \"sin(pi*x[0])*sin(pi*x[1])\"), degree=r+1)\n",
    "\n",
    "    bcs = [DirichletBC(W.sub(0), Constant(0), DomainBoundary()),\n",
    "           DirichletBC(W.sub(1), g, DomainBoundary())]\n",
    "\n",
    "    N = FacetNormal(mesh)\n",
    "    s, u = TrialFunctions(W)\n",
    "    t, v = TestFunctions(W) \n",
    "\n",
    "    a = (inner(curl(u), curl(v)) + inner(grad(s), v) + inner(grad(t), u))*dx \n",
    "    f = Expression((\"2*pow(pi, 2)*(sin(pi*x[1])*sin(pi*x[2]))\",\n",
    "                    \"2*pow(pi, 2)*(sin(pi*x[2])*sin(pi*x[0]))\",\n",
    "                    \"2*pow(pi, 2)*(sin(pi*x[0])*sin(pi*x[1]))\"), degree=r+1)\n",
    "    L = inner(f, v)*dx\n",
    "    \n",
    "    w = Function(W)\n",
    "    solve(a == L, w, bcs=bcs)\n",
    "    u = w.sub(1)\n",
    "    \n",
    "    curl_u = project(curl(u), VectorFunctionSpace(mesh, \"DG\", r-1))\n",
    "    \n",
    "    # post-process\n",
    "    V_dg_element = VectorElement('DG', mesh.ufl_cell(), r)\n",
    "    Q_element = VectorElement('CG', mesh.ufl_cell(), r+2)\n",
    "    W = FunctionSpace(mesh, V_dg_element*Q_element)\n",
    "\n",
    "    bcs = [DirichletBC(W.sub(0), g, DomainBoundary())]\n",
    "\n",
    "    lam, q = TrialFunctions(W)\n",
    "    v, p = TestFunctions(W)\n",
    "    '''\n",
    "    a = (inner(q, p) + inner(curl(q), curl(p)) + curl(lam*p + v*q) + 1e-10*inner(lam, v))*dx\n",
    "    '''\n",
    "\n",
    "    a = (inner(q, p) + inner(curl(q), curl(p)))*dx + \\\n",
    "        (div(cross(lam,p) + cross(v,q)) + inner(curl(lam), p) + inner(curl(v), q))*dx\n",
    "        #(inner(q('-'), cross(v('-'), N('-'))) + inner(p('-'), cross(lam('-'), N('-'))))*dS\n",
    "    L = (inner(f, v + curl(p)) + inner(curl_u, p + curl(v)))*dx\n",
    "    \n",
    "    w = Function(W)\n",
    "    solve(a == L, w, bcs=bcs, solver_parameters={'linear_solver':'mumps', 'preconditioner': 'ilu'})\n",
    "    q = w.sub(1)\n",
    "\n",
    "    # exact solutions\n",
    "    u_exact = Expression((\"(sin(pi*x[1])*sin(pi*x[2]))\",\n",
    "                          \"(sin(pi*x[2])*sin(pi*x[0]))\",\n",
    "                          \"(sin(pi*x[0])*sin(pi*x[1]))\"), degree=r+3)\n",
    "\n",
    "    curl_u_exact = Expression((\"pi*(sin(pi*x[0])*cos(pi*x[1])-sin(pi*x[0])*cos(pi*x[2]))\",\n",
    "                               \"pi*(sin(pi*x[1])*cos(pi*x[2])-sin(pi*x[1])*cos(pi*x[0]))\",\n",
    "                               \"pi*(sin(pi*x[2])*cos(pi*x[0])-sin(pi*x[2])*cos(pi*x[1]))\"), degree=r+5)\n",
    "    # double-check our div(curl(solution)) = 0\n",
    "    print(norm(project(div(u), FunctionSpace(mesh, \"DG\", r)).vector(), 'linf'))\n",
    "    # double-check our div(curl(solution)) = 0\n",
    "    print(norm(project(div(curl_u), FunctionSpace(mesh, \"DG\", r)).vector(), 'linf'))\n",
    "    \n",
    "    u_error = errornorm(u_exact, u)\n",
    "    curl_u_error = errornorm(curl_u_exact, curl_u)\n",
    "    q_error = errornorm(curl_u_exact, q)\n",
    "\n",
    "    \"\"\"\n",
    "    File(\"3d_u_exact_n=%d.pvd\"%n) << project(u_exact, FunctionSpace(mesh, \"N2curl\", r))\n",
    "    File(\"3d_u_n=%d.pvd\"%n) << u\n",
    "    File(\"3d_curl_u_n=%d.pvd\"%n) << curl_u\n",
    "    File(\"3d_curl_u_exact_n=%d.pvd\"%n) << project(curl_u_exact, VectorFunctionSpace(mesh, \"CG\", r+2))\n",
    "    \"\"\"\n",
    "\n",
    "    return u_error, curl_u_error, q_error"
   ]
  },
  {
   "cell_type": "code",
   "execution_count": 7,
   "metadata": {},
   "outputs": [
    {
     "ename": "RuntimeError",
     "evalue": "\n\n*** -------------------------------------------------------------------------\n*** DOLFIN encountered an error. If you are not able to resolve this issue\n*** using the information listed below, you can ask for help at\n***\n***     fenics-support@googlegroups.com\n***\n*** Remember to include the error message listed below and, if possible,\n*** include a *minimal* running example to reproduce the error.\n***\n*** -------------------------------------------------------------------------\n*** Error:   Unable to solve linear system using PETSc Krylov solver.\n*** Reason:  Solution failed to converge in 0 iterations (PETSc reason DIVERGED_PC_FAILED, residual norm ||r|| = 0.000000e+00).\n*** Where:   This error was encountered inside PETScKrylovSolver.cpp.\n*** Process: 0\n*** \n*** DOLFIN version: 2019.1.0\n*** Git changeset:  \n*** -------------------------------------------------------------------------\n",
     "output_type": "error",
     "traceback": [
      "\u001b[0;31m---------------------------------------------------------------------------\u001b[0m",
      "\u001b[0;31mRuntimeError\u001b[0m                              Traceback (most recent call last)",
      "\u001b[0;32m<ipython-input-7-f00bcaac9e67>\u001b[0m in \u001b[0;36m<module>\u001b[0;34m\u001b[0m\n\u001b[1;32m      1\u001b[0m \u001b[0mns\u001b[0m \u001b[0;34m=\u001b[0m \u001b[0;34m[\u001b[0m\u001b[0;36m3\u001b[0m\u001b[0;34m,\u001b[0m\u001b[0;36m4\u001b[0m\u001b[0;34m,\u001b[0m\u001b[0;36m5\u001b[0m\u001b[0;34m]\u001b[0m\u001b[0;31m#[2**k for k in range(1,3)]\u001b[0m\u001b[0;34m\u001b[0m\u001b[0;34m\u001b[0m\u001b[0m\n\u001b[0;32m----> 2\u001b[0;31m \u001b[0mes_3d\u001b[0m \u001b[0;34m=\u001b[0m \u001b[0;34m[\u001b[0m\u001b[0merrors_3d\u001b[0m\u001b[0;34m(\u001b[0m\u001b[0mn\u001b[0m\u001b[0;34m,\u001b[0m \u001b[0mr\u001b[0m\u001b[0;34m=\u001b[0m\u001b[0;36m2\u001b[0m\u001b[0;34m)\u001b[0m \u001b[0;32mfor\u001b[0m \u001b[0mn\u001b[0m \u001b[0;32min\u001b[0m \u001b[0mns\u001b[0m\u001b[0;34m]\u001b[0m\u001b[0;34m\u001b[0m\u001b[0;34m\u001b[0m\u001b[0m\n\u001b[0m",
      "\u001b[0;32m<ipython-input-7-f00bcaac9e67>\u001b[0m in \u001b[0;36m<listcomp>\u001b[0;34m(.0)\u001b[0m\n\u001b[1;32m      1\u001b[0m \u001b[0mns\u001b[0m \u001b[0;34m=\u001b[0m \u001b[0;34m[\u001b[0m\u001b[0;36m3\u001b[0m\u001b[0;34m,\u001b[0m\u001b[0;36m4\u001b[0m\u001b[0;34m,\u001b[0m\u001b[0;36m5\u001b[0m\u001b[0;34m]\u001b[0m\u001b[0;31m#[2**k for k in range(1,3)]\u001b[0m\u001b[0;34m\u001b[0m\u001b[0;34m\u001b[0m\u001b[0m\n\u001b[0;32m----> 2\u001b[0;31m \u001b[0mes_3d\u001b[0m \u001b[0;34m=\u001b[0m \u001b[0;34m[\u001b[0m\u001b[0merrors_3d\u001b[0m\u001b[0;34m(\u001b[0m\u001b[0mn\u001b[0m\u001b[0;34m,\u001b[0m \u001b[0mr\u001b[0m\u001b[0;34m=\u001b[0m\u001b[0;36m2\u001b[0m\u001b[0;34m)\u001b[0m \u001b[0;32mfor\u001b[0m \u001b[0mn\u001b[0m \u001b[0;32min\u001b[0m \u001b[0mns\u001b[0m\u001b[0;34m]\u001b[0m\u001b[0;34m\u001b[0m\u001b[0;34m\u001b[0m\u001b[0m\n\u001b[0m",
      "\u001b[0;32m<ipython-input-6-77825e5cf5d3>\u001b[0m in \u001b[0;36merrors_3d\u001b[0;34m(n, r)\u001b[0m\n\u001b[1;32m     50\u001b[0m \u001b[0;34m\u001b[0m\u001b[0m\n\u001b[1;32m     51\u001b[0m     \u001b[0mw\u001b[0m \u001b[0;34m=\u001b[0m \u001b[0mFunction\u001b[0m\u001b[0;34m(\u001b[0m\u001b[0mW\u001b[0m\u001b[0;34m)\u001b[0m\u001b[0;34m\u001b[0m\u001b[0;34m\u001b[0m\u001b[0m\n\u001b[0;32m---> 52\u001b[0;31m     \u001b[0msolve\u001b[0m\u001b[0;34m(\u001b[0m\u001b[0ma\u001b[0m \u001b[0;34m==\u001b[0m \u001b[0mL\u001b[0m\u001b[0;34m,\u001b[0m \u001b[0mw\u001b[0m\u001b[0;34m,\u001b[0m \u001b[0mbcs\u001b[0m\u001b[0;34m=\u001b[0m\u001b[0mbcs\u001b[0m\u001b[0;34m,\u001b[0m \u001b[0msolver_parameters\u001b[0m\u001b[0;34m=\u001b[0m\u001b[0;34m{\u001b[0m\u001b[0;34m'linear_solver'\u001b[0m\u001b[0;34m:\u001b[0m\u001b[0;34m'mumps'\u001b[0m\u001b[0;34m,\u001b[0m \u001b[0;34m'preconditioner'\u001b[0m\u001b[0;34m:\u001b[0m \u001b[0;34m'ilu'\u001b[0m\u001b[0;34m}\u001b[0m\u001b[0;34m)\u001b[0m\u001b[0;34m\u001b[0m\u001b[0;34m\u001b[0m\u001b[0m\n\u001b[0m\u001b[1;32m     53\u001b[0m     \u001b[0mq\u001b[0m \u001b[0;34m=\u001b[0m \u001b[0mw\u001b[0m\u001b[0;34m.\u001b[0m\u001b[0msub\u001b[0m\u001b[0;34m(\u001b[0m\u001b[0;36m1\u001b[0m\u001b[0;34m)\u001b[0m\u001b[0;34m\u001b[0m\u001b[0;34m\u001b[0m\u001b[0m\n\u001b[1;32m     54\u001b[0m \u001b[0;34m\u001b[0m\u001b[0m\n",
      "\u001b[0;32m~/anaconda3/envs/fe/lib/python3.7/site-packages/dolfin/fem/solving.py\u001b[0m in \u001b[0;36msolve\u001b[0;34m(*args, **kwargs)\u001b[0m\n\u001b[1;32m    218\u001b[0m     \u001b[0;31m# tolerance)\u001b[0m\u001b[0;34m\u001b[0m\u001b[0;34m\u001b[0m\u001b[0;34m\u001b[0m\u001b[0m\n\u001b[1;32m    219\u001b[0m     \u001b[0;32melif\u001b[0m \u001b[0misinstance\u001b[0m\u001b[0;34m(\u001b[0m\u001b[0margs\u001b[0m\u001b[0;34m[\u001b[0m\u001b[0;36m0\u001b[0m\u001b[0;34m]\u001b[0m\u001b[0;34m,\u001b[0m \u001b[0mufl\u001b[0m\u001b[0;34m.\u001b[0m\u001b[0mclasses\u001b[0m\u001b[0;34m.\u001b[0m\u001b[0mEquation\u001b[0m\u001b[0;34m)\u001b[0m\u001b[0;34m:\u001b[0m\u001b[0;34m\u001b[0m\u001b[0;34m\u001b[0m\u001b[0m\n\u001b[0;32m--> 220\u001b[0;31m         \u001b[0m_solve_varproblem\u001b[0m\u001b[0;34m(\u001b[0m\u001b[0;34m*\u001b[0m\u001b[0margs\u001b[0m\u001b[0;34m,\u001b[0m \u001b[0;34m**\u001b[0m\u001b[0mkwargs\u001b[0m\u001b[0;34m)\u001b[0m\u001b[0;34m\u001b[0m\u001b[0;34m\u001b[0m\u001b[0m\n\u001b[0m\u001b[1;32m    221\u001b[0m \u001b[0;34m\u001b[0m\u001b[0m\n\u001b[1;32m    222\u001b[0m     \u001b[0;31m# Default case, just call the wrapped C++ solve function\u001b[0m\u001b[0;34m\u001b[0m\u001b[0;34m\u001b[0m\u001b[0;34m\u001b[0m\u001b[0m\n",
      "\u001b[0;32m~/anaconda3/envs/fe/lib/python3.7/site-packages/dolfin/fem/solving.py\u001b[0m in \u001b[0;36m_solve_varproblem\u001b[0;34m(*args, **kwargs)\u001b[0m\n\u001b[1;32m    245\u001b[0m         \u001b[0msolver\u001b[0m \u001b[0;34m=\u001b[0m \u001b[0mLinearVariationalSolver\u001b[0m\u001b[0;34m(\u001b[0m\u001b[0mproblem\u001b[0m\u001b[0;34m)\u001b[0m\u001b[0;34m\u001b[0m\u001b[0;34m\u001b[0m\u001b[0m\n\u001b[1;32m    246\u001b[0m         \u001b[0msolver\u001b[0m\u001b[0;34m.\u001b[0m\u001b[0mparameters\u001b[0m\u001b[0;34m.\u001b[0m\u001b[0mupdate\u001b[0m\u001b[0;34m(\u001b[0m\u001b[0msolver_parameters\u001b[0m\u001b[0;34m)\u001b[0m\u001b[0;34m\u001b[0m\u001b[0;34m\u001b[0m\u001b[0m\n\u001b[0;32m--> 247\u001b[0;31m         \u001b[0msolver\u001b[0m\u001b[0;34m.\u001b[0m\u001b[0msolve\u001b[0m\u001b[0;34m(\u001b[0m\u001b[0;34m)\u001b[0m\u001b[0;34m\u001b[0m\u001b[0;34m\u001b[0m\u001b[0m\n\u001b[0m\u001b[1;32m    248\u001b[0m \u001b[0;34m\u001b[0m\u001b[0m\n\u001b[1;32m    249\u001b[0m     \u001b[0;31m# Solve nonlinear variational problem\u001b[0m\u001b[0;34m\u001b[0m\u001b[0;34m\u001b[0m\u001b[0;34m\u001b[0m\u001b[0m\n",
      "\u001b[0;31mRuntimeError\u001b[0m: \n\n*** -------------------------------------------------------------------------\n*** DOLFIN encountered an error. If you are not able to resolve this issue\n*** using the information listed below, you can ask for help at\n***\n***     fenics-support@googlegroups.com\n***\n*** Remember to include the error message listed below and, if possible,\n*** include a *minimal* running example to reproduce the error.\n***\n*** -------------------------------------------------------------------------\n*** Error:   Unable to solve linear system using PETSc Krylov solver.\n*** Reason:  Solution failed to converge in 0 iterations (PETSc reason DIVERGED_PC_FAILED, residual norm ||r|| = 0.000000e+00).\n*** Where:   This error was encountered inside PETScKrylovSolver.cpp.\n*** Process: 0\n*** \n*** DOLFIN version: 2019.1.0\n*** Git changeset:  \n*** -------------------------------------------------------------------------\n"
     ]
    }
   ],
   "source": [
    "ns = [3,4,5]#[2**k for k in range(1,3)]\n",
    "es_3d = [errors_3d(n, r=2) for n in ns]"
   ]
  },
  {
   "cell_type": "markdown",
   "metadata": {},
   "source": [
    "## Examine error & convergence rates"
   ]
  },
  {
   "cell_type": "code",
   "execution_count": null,
   "metadata": {},
   "outputs": [],
   "source": [
    "plt.loglog(1/np.array(ns), es_3d, basex=2, basey=2)\n",
    "plt.legend(['$u$',r'$\\operatorname{curl} u$','$q$'])\n",
    "plt.xlabel('$h$')\n",
    "plt.ylabel('error')"
   ]
  },
  {
   "cell_type": "code",
   "execution_count": null,
   "metadata": {},
   "outputs": [],
   "source": [
    "rates = -np.diff(np.log2(es_3d), axis=0)\n",
    "rates"
   ]
  },
  {
   "cell_type": "code",
   "execution_count": null,
   "metadata": {},
   "outputs": [],
   "source": [
    "es_3d"
   ]
  },
  {
   "cell_type": "code",
   "execution_count": null,
   "metadata": {},
   "outputs": [],
   "source": []
  }
 ],
 "metadata": {
  "kernelspec": {
   "display_name": "Python 3",
   "language": "python",
   "name": "python3"
  },
  "language_info": {
   "codemirror_mode": {
    "name": "ipython",
    "version": 3
   },
   "file_extension": ".py",
   "mimetype": "text/x-python",
   "name": "python",
   "nbconvert_exporter": "python",
   "pygments_lexer": "ipython3",
   "version": "3.7.3"
  }
 },
 "nbformat": 4,
 "nbformat_minor": 2
}
