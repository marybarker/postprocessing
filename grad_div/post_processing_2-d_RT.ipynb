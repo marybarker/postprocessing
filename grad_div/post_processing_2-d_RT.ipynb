{
 "cells": [
  {
   "cell_type": "code",
   "execution_count": 1,
   "metadata": {},
   "outputs": [],
   "source": [
    "from dolfin import *\n",
    "import numpy as np\n",
    "import matplotlib.pyplot as plt\n",
    "#%config InlineBackend.figure_format = 'retina'"
   ]
  },
  {
   "cell_type": "code",
   "execution_count": 2,
   "metadata": {},
   "outputs": [],
   "source": [
    "def errors(n, r=1):\n",
    "\n",
    "    mesh = UnitSquareMesh(n, n)\n",
    "    \n",
    "    # start by solving for u using non-hybrid method\n",
    "    S_element = FiniteElement('CG', mesh.ufl_cell(), r)\n",
    "    V_element = FiniteElement('RT', mesh.ufl_cell(), r)\n",
    "    W = FunctionSpace(mesh, S_element*V_element)\n",
    "    bcs = [DirichletBC(W.sub(0), Constant(0), DomainBoundary()),\n",
    "           DirichletBC(W.sub(1), Constant((0,0)), DomainBoundary())]\n",
    "\n",
    "    s, u = TrialFunctions(W)\n",
    "    t, v = TestFunctions(W)\n",
    "    a = (-inner(s, t) + inner(u, curl(t)) + inner(curl(s), v) + inner(div(u), div(v)))*dx\n",
    "    f = Expression((\"pow(pi,2)*sin(pi*x[0])\",\"pow(pi,2)*sin(pi*x[1])\"), degree=r+1)\n",
    "    L = inner(f, v)*dx\n",
    "    \n",
    "    w = Function(W)\n",
    "    solve(a == L, w, bcs)\n",
    "    u = w.sub(1)\n",
    "    \n",
    "    div_u = project(div(u), FunctionSpace(mesh, \"DG\", r-1))\n",
    "    \n",
    "    # post-process to estimate q = div(u) in H^1 instead of L^2\n",
    "    V_dg_element = FiniteElement('DRT', mesh.ufl_cell(), r)\n",
    "    Q_element = FiniteElement('CG', mesh.ufl_cell(), r+1)\n",
    "    W = FunctionSpace(mesh, V_dg_element*Q_element)\n",
    "    \n",
    "    lam, q = TrialFunctions(W)\n",
    "    v, p = TestFunctions(W)\n",
    "    a = (inner(q, p) + inner(grad(q), grad(p)) - div(lam*p + v*q) + 1e-10*inner(lam, v))*dx\n",
    "    L = (inner(f, v - grad(p)) + inner(div_u, p - div(v)))*dx\n",
    "    \n",
    "    w = Function(W)\n",
    "    solve(a == L, w)\n",
    "    q = w.sub(1)\n",
    "    \n",
    "    # exact solutions\n",
    "    u_exact = Expression((\"sin(pi*x[0])\",\"sin(pi*x[1])\"), degree=r+3)\n",
    "    q_exact = Expression(\"pi*(cos(pi*x[0]) + cos(pi*x[1]))\", degree=r+4)\n",
    "\n",
    "    u_error = errornorm(u_exact, u)\n",
    "    div_u_error = errornorm(q_exact, div_u)\n",
    "    q_error = errornorm(q_exact, q)\n",
    "\n",
    "    return u_error, div_u_error, q_error"
   ]
  },
  {
   "cell_type": "code",
   "execution_count": 4,
   "metadata": {},
   "outputs": [
    {
     "name": "stdout",
     "output_type": "stream",
     "text": [
      "Calling FFC just-in-time (JIT) compiler, this may take some time.\n",
      "Calling FFC just-in-time (JIT) compiler, this may take some time.\n",
      "Calling FFC just-in-time (JIT) compiler, this may take some time.\n",
      "Calling FFC just-in-time (JIT) compiler, this may take some time.\n",
      "Calling FFC just-in-time (JIT) compiler, this may take some time.\n",
      "Calling FFC just-in-time (JIT) compiler, this may take some time.\n",
      "Calling FFC just-in-time (JIT) compiler, this may take some time.\n",
      "Calling FFC just-in-time (JIT) compiler, this may take some time.\n",
      "Calling FFC just-in-time (JIT) compiler, this may take some time.\n"
     ]
    }
   ],
   "source": [
    "ns = [2**k for k in range(1,5)]\n",
    "es = [errors(n, r=3) for n in ns]"
   ]
  },
  {
   "cell_type": "code",
   "execution_count": 5,
   "metadata": {},
   "outputs": [
    {
     "data": {
      "text/plain": [
       "Text(0, 0.5, 'error')"
      ]
     },
     "execution_count": 5,
     "metadata": {},
     "output_type": "execute_result"
    },
    {
     "data": {
      "image/png": "[encoded data removed]",
      "text/plain": [
       "<Figure size 432x288 with 1 Axes>"
      ]
     },
     "metadata": {
      "needs_background": "light"
     },
     "output_type": "display_data"
    }
   ],
   "source": [
    "plt.loglog(1/np.array(ns), es, basex=2, basey=2)\n",
    "plt.legend(['$u$',r'$\\operatorname{div} u$', r'$q$'])\n",
    "plt.xlabel('$h$')\n",
    "plt.ylabel('error')"
   ]
  },
  {
   "cell_type": "code",
   "execution_count": 6,
   "metadata": {},
   "outputs": [
    {
     "data": {
      "text/plain": [
       "array([[3.00034374, 2.99171944, 4.89308578],\n",
       "       [3.00997103, 2.99748037, 4.97014883],\n",
       "       [3.0070999 , 2.99934418, 4.98943309]])"
      ]
     },
     "execution_count": 6,
     "metadata": {},
     "output_type": "execute_result"
    }
   ],
   "source": [
    "rates = -np.diff(np.log2(es), axis=0)\n",
    "rates"
   ]
  },
  {
   "cell_type": "code",
   "execution_count": null,
   "metadata": {},
   "outputs": [],
   "source": []
  }
 ],
 "metadata": {
  "kernelspec": {
   "display_name": "Python 3",
   "language": "python",
   "name": "python3"
  },
  "language_info": {
   "codemirror_mode": {
    "name": "ipython",
    "version": 3
   },
   "file_extension": ".py",
   "mimetype": "text/x-python",
   "name": "python",
   "nbconvert_exporter": "python",
   "pygments_lexer": "ipython3",
   "version": "3.7.3"
  }
 },
 "nbformat": 4,
 "nbformat_minor": 2
}
